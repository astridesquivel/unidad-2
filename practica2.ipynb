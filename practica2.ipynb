{
  "nbformat": 4,
  "nbformat_minor": 0,
  "metadata": {
    "colab": {
      "provenance": [],
      "authorship_tag": "ABX9TyNvzpgYHZ8mC8xYGQf5B4rV",
      "include_colab_link": true
    },
    "kernelspec": {
      "name": "python3",
      "display_name": "Python 3"
    },
    "language_info": {
      "name": "python"
    }
  },
  "cells": [
    {
      "cell_type": "markdown",
      "metadata": {
        "id": "view-in-github",
        "colab_type": "text"
      },
      "source": [
        "<a href=\"https://colab.research.google.com/github/astridesquivel/unidad-2/blob/main/practica2.ipynb\" target=\"_parent\"><img src=\"https://colab.research.google.com/assets/colab-badge.svg\" alt=\"Open In Colab\"/></a>"
      ]
    },
    {
      "cell_type": "code",
      "execution_count": null,
      "metadata": {
        "id": "T6e6-Fnc123F"
      },
      "outputs": [],
      "source": []
    },
    {
      "cell_type": "markdown",
      "source": [
        "Astrid Elena Esquivel Garrdo-Practica 2 de pandas\n",
        "7 de octubre de 2025\n",
        "---------------------\n",
        "DataFrame de pandas\n",
        "-------------------\n",
        "Un DataFame es una estructura de datos bidimencional,como una matriz o tabla con filas y columnas\n",
        "--------------------\n",
        "Ejemplo: Crea una DataFrame basico:\n",
        "--------------------------------"
      ],
      "metadata": {
        "id": "WHExQcQl15yQ"
      }
    },
    {
      "cell_type": "code",
      "source": [
        "import pandas as pd\n",
        "\n",
        "datos = {\n",
        "    \"calorias\": [420,380,390],\n",
        "    \"duracion\": [50,40,45]\n",
        "}\n",
        "#cargar datos dentro del DATAFRAME\n",
        "dataframe = pd.DataFrame(datos)\n",
        "print(dataframe)"
      ],
      "metadata": {
        "colab": {
          "base_uri": "https://localhost:8080/"
        },
        "id": "jXo-cpth3Ipf",
        "outputId": "39f3908b-44d9-42e9-803d-af4472de1f1b"
      },
      "execution_count": 3,
      "outputs": [
        {
          "output_type": "stream",
          "name": "stdout",
          "text": [
            "   calorias  duracion\n",
            "0       420        50\n",
            "1       380        40\n",
            "2       390        45\n"
          ]
        }
      ]
    },
    {
      "cell_type": "markdown",
      "source": [
        "Localizar filas\n",
        "-------------\n",
        "Como puedes ver en el resultado anterior,el DataFrame es como una tabla con filas y columnas.\n",
        "Pandas usa el atributo \"loc\" para resolver una o mas filas especificas\n",
        "---------------------\n",
        "Ejemplo:Devuelve la fila 0"
      ],
      "metadata": {
        "id": "CnwgLpy06-S1"
      }
    },
    {
      "cell_type": "code",
      "source": [
        "import pandas as pd\n",
        "\n",
        "datos = {\n",
        "    \"calorias\":[420,380,390],\n",
        "    \"duracion\":[50,40,45]\n",
        "}\n",
        "#cargar datos dentro del DATAFRAME\n",
        "dataframe = pd.DataFrame(datos)\n",
        "print(dataframe.loc[0])"
      ],
      "metadata": {
        "colab": {
          "base_uri": "https://localhost:8080/"
        },
        "id": "eCloEW7O7uKV",
        "outputId": "07728c33-1c8a-46f2-8210-07c37e132585"
      },
      "execution_count": 4,
      "outputs": [
        {
          "output_type": "stream",
          "name": "stdout",
          "text": [
            "calorias    420\n",
            "duracion     50\n",
            "Name: 0, dtype: int64\n"
          ]
        }
      ]
    },
    {
      "cell_type": "markdown",
      "source": [
        "Ejemplo: Devuelve las filas 0 y 1"
      ],
      "metadata": {
        "id": "iLR0lX8m9q0d"
      }
    },
    {
      "cell_type": "code",
      "source": [
        "import pandas as pd\n",
        "\n",
        "datos = {\n",
        "    \"calorias\": [420, 380, 390],\n",
        "    \"duracion\": [50, 40, 45]\n",
        "}\n",
        "\n",
        "# Cargar datos dentro del DataFrame\n",
        "dataframe = pd.DataFrame(datos)\n",
        "print(dataframe.loc[[0,1]])"
      ],
      "metadata": {
        "colab": {
          "base_uri": "https://localhost:8080/"
        },
        "id": "uysN2ZWe9yCk",
        "outputId": "b508969f-3dde-45a4-b337-d25d56a1863d"
      },
      "execution_count": 5,
      "outputs": [
        {
          "output_type": "stream",
          "name": "stdout",
          "text": [
            "   calorias  duracion\n",
            "0       420        50\n",
            "1       380        40\n"
          ]
        }
      ]
    },
    {
      "cell_type": "markdown",
      "source": [
        "Indices nombrados\n",
        "-------------\n",
        "Con el argumento \"index\",puedes nombrar tus propios indices o etiquetas.\n",
        "Ejemplo:agrega una lista de nombres para darle una etiqueta a cada filas"
      ],
      "metadata": {
        "id": "v6LQlZpY-exT"
      }
    },
    {
      "cell_type": "code",
      "source": [
        "import pandas as pd\n",
        "\n",
        "datos = {\n",
        "    \"calorias\": [420, 380, 390],\n",
        "    \"duracion\": [50, 40, 45]\n",
        "}\n",
        "\n",
        "# Cargar datos dentro del DataFrame\n",
        "dataframe = pd.DataFrame(datos,index = [\"dia-1\",\"dia-2\",\"dia-3\"])\n",
        "print(dataframe)"
      ],
      "metadata": {
        "colab": {
          "base_uri": "https://localhost:8080/"
        },
        "id": "zpqc0STY_Ae8",
        "outputId": "276bb3a0-41ac-4681-a788-0f890a79ecdf"
      },
      "execution_count": 7,
      "outputs": [
        {
          "output_type": "stream",
          "name": "stdout",
          "text": [
            "       calorias  duracion\n",
            "dia-1       420        50\n",
            "dia-2       380        40\n",
            "dia-3       390        45\n"
          ]
        }
      ]
    },
    {
      "cell_type": "markdown",
      "source": [
        "Localizar indices por el nombre o etiqueta\n",
        "Utilice el atributo \"loc\" para devolver la(s) fila(s)\n",
        "--------------------------------\n",
        "Ejemplo: Devuelve la fila dia-2\n",
        "------------------------"
      ],
      "metadata": {
        "id": "E8lwlAQY_pAT"
      }
    },
    {
      "cell_type": "code",
      "source": [
        "import pandas as pd\n",
        "\n",
        "datos = {\n",
        "    \"calorias\": [420, 380, 390],\n",
        "    \"duracion\": [50, 40, 45]\n",
        "}\n",
        "\n",
        "# Cargar datos dentro del DataFrame\n",
        "dataframe = pd.DataFrame(datos,index = [\"dia-1\",\"dia-2\",\"dia-3\"])\n",
        "print(dataframe.loc[\"dia-2\"])"
      ],
      "metadata": {
        "colab": {
          "base_uri": "https://localhost:8080/"
        },
        "id": "4EBoVCCNAGZL",
        "outputId": "c04ea5a7-e251-4e1e-ff7a-e9640b8903a8"
      },
      "execution_count": 9,
      "outputs": [
        {
          "output_type": "stream",
          "name": "stdout",
          "text": [
            "calorias    380\n",
            "duracion     40\n",
            "Name: dia-2, dtype: int64\n"
          ]
        }
      ]
    }
  ]
}